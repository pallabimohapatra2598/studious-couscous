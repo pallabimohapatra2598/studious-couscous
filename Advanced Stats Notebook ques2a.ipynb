{
 "cells": [
  {
   "cell_type": "code",
   "execution_count": 3,
   "metadata": {},
   "outputs": [],
   "source": [
    "import pandas as pd\n",
    "import numpy as np\n",
    "import seaborn as sns\n",
    "\n",
    "%matplotlib inline"
   ]
  },
  {
   "cell_type": "code",
   "execution_count": 4,
   "metadata": {},
   "outputs": [],
   "source": [
    "#loading the data\n",
    "\n",
    "df = pd.DataFrame([[0.985, 798.48], [-0.305, 343], [-1.173, -164.43], [-3.067, -213.96], [-5.171, 548.13], [2.695, -44.04], [0.444, 1353.79], [4.231, 258.64], [7.481, 126.98], [-1.549, -270.71], [1.572, 373.92], [7.311, 391.78], [0.829, 336.22], [-0.073, -254.41], [-0.444, -345.96], [-0.534, 228.19], [-2.81, -7.64], [3.981, 323.64], [0.739, 230.08], [-5.705, 292.02]],columns=['X','Y'])"
   ]
  },
  {
   "cell_type": "code",
   "execution_count": 5,
   "metadata": {},
   "outputs": [
    {
     "data": {
      "text/plain": [
       "<AxesSubplot:xlabel='X', ylabel='Y'>"
      ]
     },
     "execution_count": 5,
     "metadata": {},
     "output_type": "execute_result"
    },
    {
     "data": {
      "image/png": "[encoded data removed]",
      "text/plain": [
       "<Figure size 432x288 with 1 Axes>"
      ]
     },
     "metadata": {
      "needs_background": "light"
     },
     "output_type": "display_data"
    }
   ],
   "source": [
    "sns.scatterplot(data=df,x='X',y='Y')"
   ]
  },
  {
   "cell_type": "code",
   "execution_count": 19,
   "metadata": {},
   "outputs": [
    {
     "name": "stdout",
     "output_type": "stream",
     "text": [
      "X mean = -1.3732\n",
      "Y mean = 283.1401000000001\n"
     ]
    }
   ],
   "source": [
    "\n",
    "x_mean = sum(df['X']) / 20\n",
    "y_mean = sum(df['Y']) / 20\n",
    "\n",
    "print('X mean = {}\\nY mean = {}'.format(x_mean,y_mean))"
   ]
  },
  {
   "cell_type": "code",
   "execution_count": 12,
   "metadata": {},
   "outputs": [
    {
     "data": {
      "text/plain": [
       "-870.980266294737"
      ]
     },
     "execution_count": 12,
     "metadata": {},
     "output_type": "execute_result"
    }
   ],
   "source": [
    "def calc_cov(x,y):\n",
    "    return sum((x - x_mean) * (y-y_mean)) / 19\n",
    "\n",
    "calc_cov(df['X'],df['Y'])"
   ]
  },
  {
   "cell_type": "markdown",
   "metadata": {},
   "source": [
    "##### inbuilt method\n"
   ]
  },
  {
   "cell_type": "code",
   "execution_count": 16,
   "metadata": {},
   "outputs": [
    {
     "data": {
      "text/plain": [
       "-870.9802662947369"
      ]
     },
     "execution_count": 16,
     "metadata": {},
     "output_type": "execute_result"
    }
   ],
   "source": [
    "df.cov()['X']['Y']"
   ]
  },
  {
   "cell_type": "code",
   "execution_count": 24,
   "metadata": {},
   "outputs": [
    {
     "data": {
      "text/plain": [
       "{'x_var': 14.07, 'y_var': 268073.68}"
      ]
     },
     "execution_count": 24,
     "metadata": {},
     "output_type": "execute_result"
    }
   ],
   "source": [
    "def calc_var(x,y):\n",
    "    ans = {'x_var': 0 , 'y_var':0}\n",
    "    ans['x_var'] = round(sum((x - x_mean) ** 2)  / 19 , 2)\n",
    "    ans['y_var'] = round(sum((y - y_mean) ** 2)  / 19,2)\n",
    "    return ans\n",
    "    \n",
    "calc_var(df['X'],df['Y'])"
   ]
  },
  {
   "cell_type": "markdown",
   "metadata": {},
   "source": [
    "##### another method"
   ]
  },
  {
   "cell_type": "code",
   "execution_count": 25,
   "metadata": {},
   "outputs": [
    {
     "data": {
      "text/plain": [
       "X        14.066663\n",
       "Y    268073.676675\n",
       "dtype: float64"
      ]
     },
     "execution_count": 25,
     "metadata": {},
     "output_type": "execute_result"
    }
   ],
   "source": [
    "df.var()"
   ]
  }
 ],
 "metadata": {
  "kernelspec": {
   "display_name": "Python 3",
   "language": "python",
   "name": "python3"
  },
  "language_info": {
   "codemirror_mode": {
    "name": "ipython",
    "version": 3
   },
   "file_extension": ".py",
   "mimetype": "text/x-python",
   "name": "python",
   "nbconvert_exporter": "python",
   "pygments_lexer": "ipython3",
   "version": "3.8.8"
  }
 },
 "nbformat": 4,
 "nbformat_minor": 4
}
