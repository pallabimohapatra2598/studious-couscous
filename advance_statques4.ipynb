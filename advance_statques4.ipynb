{
 "cells": [
  {
   "cell_type": "markdown",
   "id": "6e801113",
   "metadata": {},
   "source": [
    "# 4.\n",
    "'''The hypothesis test is a statistical method in which one using the sample data try to check the hypothesis for\n",
    "the population parameter using the different statistical test available. The hypothesis test is an inference statistical\n",
    "tool.\n",
    "The hypothesis test consist of null and alternate hypothesis and are tested to reject or fail to reject the null hypothesis. If the test statistics is in the rejection region then we reject the null hypothesis otherwise we fail to reject the null hypothesis.\n",
    "The weight of the hammers will follow the normal distribution curve ( bell down curve). The observations must be independent\n",
    "of each other, i.e., one weight of the hammer shouldn't be affecting the weight of the other hammer. The normal \n",
    "distribution has two parameters, namely mean and standard deviation. '''\n",
    "\n"
   ]
  },
  {
   "cell_type": "markdown",
   "id": "56880c48",
   "metadata": {},
   "source": [
    "# Step 1. Defining the Claims [we are performing chi square test for the variance]"
   ]
  },
  {
   "cell_type": "markdown",
   "id": "2eb41b38",
   "metadata": {},
   "source": [
    "for the given problem statement  following are the null and alternate hypothesis:\n",
    "H0: SD=15.2\n",
    "H1: SD<15.2\n",
    "    "
   ]
  },
  {
   "cell_type": "markdown",
   "id": "bc812e44",
   "metadata": {},
   "source": [
    "# Step 2. Deciding the Significance Level(alpha)"
   ]
  },
  {
   "cell_type": "markdown",
   "id": "87a69fd3",
   "metadata": {},
   "source": [
    "The population mean and population standard deviation are 971 and 15.2, respectively.\n",
    "Since the population standard deviation has been provided, we shall do z-test.\n",
    "Since the level of significance has not been provided, we shall take α=0.05\n",
    "alpha as 0.05 means We expect to reject a true null hypothesis 5 out of 100 times.(A 5% significance level means that when we reject a null hypothesis)\n",
    "\n"
   ]
  },
  {
   "cell_type": "markdown",
   "id": "2edb2975",
   "metadata": {},
   "source": [
    "Now, if the test statistic is in the critical region (rejection region), or the p-value is smaller than 0.05, we shall reject the null hypothesis.\n",
    "The error probabilities are of two types; firstly, rejecting the null hypothesis while it is true; and secondly, not rejecting the null hypothesis while it is false.\n"
   ]
  },
  {
   "cell_type": "markdown",
   "id": "b1dc2442",
   "metadata": {},
   "source": [
    "# Step 3. Standard Deviation of the Sample"
   ]
  },
  {
   "cell_type": "code",
   "execution_count": 1,
   "id": "e736751a",
   "metadata": {},
   "outputs": [
    {
     "data": {
      "text/plain": [
       "21.73476477903545"
      ]
     },
     "execution_count": 1,
     "metadata": {},
     "output_type": "execute_result"
    }
   ],
   "source": [
    "import numpy\n",
    "sample_data=[969, 945, 949, 980, 913, 986, 968, 953, 990, 957]\n",
    "sd_sample=numpy.std(sample_data)\n",
    "sd_sample\n"
   ]
  },
  {
   "cell_type": "markdown",
   "id": "f1867f63",
   "metadata": {},
   "source": [
    "# Step 4: Calculating the Test Statistic using Chi-Square Test."
   ]
  },
  {
   "cell_type": "markdown",
   "id": "df9a6610",
   "metadata": {},
   "source": [
    "The test statistic is used to decide the outcome of the hypothesis test\n"
   ]
  },
  {
   "cell_type": "code",
   "execution_count": 2,
   "id": "460bfed5",
   "metadata": {},
   "outputs": [
    {
     "data": {
      "text/plain": [
       "79.75192633361557"
      ]
     },
     "execution_count": 2,
     "metadata": {},
     "output_type": "execute_result"
    }
   ],
   "source": [
    "import scipy.stats as stats\n",
    "import math\n",
    "N=10\n",
    "null_hypo=64.7\n",
    "test_stats=(N-1)/(sd_sample/null_hypo)**2\n",
    "test_stats"
   ]
  },
  {
   "cell_type": "code",
   "execution_count": null,
   "id": "552a35b5",
   "metadata": {},
   "outputs": [],
   "source": []
  }
 ],
 "metadata": {
  "kernelspec": {
   "display_name": "Python 3",
   "language": "python",
   "name": "python3"
  },
  "language_info": {
   "codemirror_mode": {
    "name": "ipython",
    "version": 3
   },
   "file_extension": ".py",
   "mimetype": "text/x-python",
   "name": "python",
   "nbconvert_exporter": "python",
   "pygments_lexer": "ipython3",
   "version": "3.8.8"
  }
 },
 "nbformat": 4,
 "nbformat_minor": 5
}
